{
 "cells": [
  {
   "cell_type": "code",
   "execution_count": 28,
   "id": "7df7d6f2",
   "metadata": {},
   "outputs": [],
   "source": [
    "import torch\n",
    "import torch.nn as nn\n",
    "import torch.nn.functional as f"
   ]
  },
  {
   "cell_type": "code",
   "execution_count": 12,
   "id": "117aa2f6",
   "metadata": {},
   "outputs": [],
   "source": [
    "conv = torch.nn.Conv2d(1024, 1024, 3, )"
   ]
  },
  {
   "cell_type": "code",
   "execution_count": 13,
   "id": "1769029a",
   "metadata": {},
   "outputs": [
    {
     "data": {
      "text/plain": [
       "torch.Size([1024, 1024, 3, 3])"
      ]
     },
     "execution_count": 13,
     "metadata": {},
     "output_type": "execute_result"
    }
   ],
   "source": [
    "conv.weight = "
   ]
  },
  {
   "cell_type": "code",
   "execution_count": 9,
   "id": "81f39c6a",
   "metadata": {},
   "outputs": [
    {
     "data": {
      "text/plain": [
       "torch.Size([7, 3, 3])"
      ]
     },
     "execution_count": 9,
     "metadata": {},
     "output_type": "execute_result"
    }
   ],
   "source": [
    "torch.randn(7, 3, 3).shape 7 * 64 * 16"
   ]
  },
  {
   "cell_type": "code",
   "execution_count": 11,
   "id": "8bc5e7f9",
   "metadata": {},
   "outputs": [
    {
     "data": {
      "text/plain": [
       "7340032"
      ]
     },
     "execution_count": 11,
     "metadata": {},
     "output_type": "execute_result"
    }
   ],
   "source": [
    "1024 * 1024 * 7"
   ]
  },
  {
   "cell_type": "code",
   "execution_count": null,
   "id": "5807fb98",
   "metadata": {},
   "outputs": [],
   "source": [
    "\n",
    "\n",
    "(B, 1024, w, h) -> (B, 1024, w * h) -> (B, 1024, C' * K) -> (B, 1024, C', K) = a\n",
    "\n",
    "z(K, 10) -> h(K, 64) -> basis (K, L * L) -----\n",
    "\n",
    "    def _get_a(self, x):\n",
    "        \n",
    "        batch, in_features, w, h = x.size()\n",
    "        \n",
    "        # (B, C, w, h) -> (B, C, w * h)\n",
    "        x = x.reshape(batch, self._in_channels, -1) \n",
    "        # (B, C, w * h) -> (B, C, C' * K)\n",
    "        if self._get_a_network is None:\n",
    "            w = torch.empty(3, 5)\n",
    "            nn.init.uniform_(w)\n",
    "            self._get_a = nn.Parameter()\n",
    "            self._get_a_network = nn.Sequential(\n",
    "            nn.Linear(w * h, self._out_channels * self._basis_dim),\n",
    "            nn.ReLU()\n",
    "        )\n",
    "        x = self._get_a_network(x) \n",
    "        # (B, C, C' * K) -> (B, C, C', K)\n",
    "        return x.reshape(batch, self._in_channels, self._out_channels, self._basis_dim) \n",
    "      "
   ]
  },
  {
   "cell_type": "code",
   "execution_count": null,
   "id": "4e6dab22",
   "metadata": {},
   "outputs": [],
   "source": [
    "nn.Sequential()"
   ]
  },
  {
   "cell_type": "code",
   "execution_count": 126,
   "id": "ceea06f6",
   "metadata": {},
   "outputs": [],
   "source": [
    "class BasisConv2d(nn.Module):\n",
    "    def __init__(\n",
    "        self, \n",
    "        in_channels: int,\n",
    "        out_channels: int,\n",
    "        kernel_size: int, \n",
    "        stride: int = 1, \n",
    "        padding: int = 0, \n",
    "        dilation: int = 1,\n",
    "        basis_dim: int = 7,\n",
    "        hidden_dim: int = 10\n",
    "    ):\n",
    "        super().__init__()\n",
    "        \n",
    "        self._stride = stride\n",
    "        self._padding = padding\n",
    "        self._dilation = dilation\n",
    "        self._in_channels = in_channels\n",
    "        self._out_channels = out_channels\n",
    "        self._kernel_size = kernel_size\n",
    "        self._basis_dim = basis_dim\n",
    "        self._hidden_dim = hidden_dim\n",
    "        \n",
    "        self._basis_generator = nn.Sequential(\n",
    "            nn.Linear(hidden_dim, 64),\n",
    "            nn.ReLU(),\n",
    "            nn.Linear(64, kernel_size * kernel_size),\n",
    "        )\n",
    "        weights_a = torch.empty(out_channels, in_channels, basis_dim)\n",
    "        self._a = nn.Parameter(nn.init.uniform_(weights_a), requires_grad=True)\n",
    "    \n",
    "    def forward(self, x):\n",
    "        weights = self._get_weights()\n",
    "        return f.conv2d(x, \n",
    "                        weights, stride=self._stride, \n",
    "                        dilation=self._dilation, \n",
    "                        padding=self._dilation)\n",
    "    \n",
    "    def _get_weights(self):\n",
    "        z = torch.randn(self._basis_dim, self._hidden_dim)\n",
    "        basis = self._basis_generator(z)\n",
    "        weights = self._a @ basis\n",
    "        return weights.view(self._out_channels, self._in_channels, \n",
    "                               self._kernel_size, self._kernel_size)"
   ]
  },
  {
   "cell_type": "code",
   "execution_count": 127,
   "id": "d6ebd593",
   "metadata": {},
   "outputs": [],
   "source": [
    "pic = torch.randn(20, 16, 64, 64)"
   ]
  },
  {
   "cell_type": "code",
   "execution_count": 128,
   "id": "043f9d88",
   "metadata": {},
   "outputs": [
    {
     "data": {
      "text/plain": [
       "torch.Size([20, 32, 64, 64])"
      ]
     },
     "execution_count": 128,
     "metadata": {},
     "output_type": "execute_result"
    }
   ],
   "source": [
    "bconv = BasisConv2d(16, 32, kernel_size=3)\n",
    "bconv(pic).shape"
   ]
  },
  {
   "cell_type": "code",
   "execution_count": 115,
   "id": "468af59c",
   "metadata": {},
   "outputs": [],
   "source": [
    "pic = torch.randn(20, 15, 64, 64)"
   ]
  },
  {
   "cell_type": "code",
   "execution_count": 116,
   "id": "4afaea83",
   "metadata": {},
   "outputs": [
    {
     "data": {
      "text/plain": [
       "BasisConv2d(\n",
       "  (_basis_generator): Sequential(\n",
       "    (0): Linear(in_features=10, out_features=64, bias=True)\n",
       "    (1): ReLU()\n",
       "    (2): Linear(in_features=64, out_features=9, bias=True)\n",
       "  )\n",
       ")"
      ]
     },
     "execution_count": 116,
     "metadata": {},
     "output_type": "execute_result"
    }
   ],
   "source": [
    "bconv"
   ]
  },
  {
   "cell_type": "code",
   "execution_count": 30,
   "id": "20fe92de",
   "metadata": {},
   "outputs": [
    {
     "name": "stdout",
     "output_type": "stream",
     "text": [
      "Help on built-in function conv2d in module torch:\n",
      "\n",
      "conv2d(...)\n",
      "    conv2d(input, weight, bias=None, stride=1, padding=0, dilation=1, groups=1) -> Tensor\n",
      "    \n",
      "    Applies a 2D convolution over an input image composed of several input\n",
      "    planes.\n",
      "    \n",
      "    This operator supports :ref:`TensorFloat32<tf32_on_ampere>`.\n",
      "    \n",
      "    See :class:`~torch.nn.Conv2d` for details and output shape.\n",
      "    \n",
      "    Note:\n",
      "        In some circumstances when given tensors on a CUDA device and using CuDNN, this operator may select a nondeterministic algorithm to increase performance. If this is undesirable, you can try to make the operation deterministic (potentially at a performance cost) by setting ``torch.backends.cudnn.deterministic = True``. See :doc:`/notes/randomness` for more information.\n",
      "    \n",
      "    Note:\n",
      "        This operator supports complex data types i.e. ``complex32, complex64, complex128``.\n",
      "    \n",
      "    \n",
      "    Args:\n",
      "        input: input tensor of shape :math:`(\\text{minibatch} , \\text{in\\_channels} , iH , iW)`\n",
      "        weight: filters of shape :math:`(\\text{out\\_channels} , \\frac{\\text{in\\_channels}}{\\text{groups}} , kH , kW)`\n",
      "        bias: optional bias tensor of shape :math:`(\\text{out\\_channels})`. Default: ``None``\n",
      "        stride: the stride of the convolving kernel. Can be a single number or a\n",
      "          tuple `(sH, sW)`. Default: 1\n",
      "        padding: implicit paddings on both sides of the input. Can be a string {'valid', 'same'},\n",
      "          single number or a tuple `(padH, padW)`. Default: 0\n",
      "          ``padding='valid'`` is the same as no padding. ``padding='same'`` pads\n",
      "          the input so the output has the same shape as the input. However, this mode\n",
      "          doesn't support any stride values other than 1.\n",
      "    \n",
      "          .. warning::\n",
      "              For ``padding='same'``, if the ``weight`` is even-length and\n",
      "              ``dilation`` is odd in any dimension, a full :func:`pad` operation\n",
      "              may be needed internally. Lowering performance.\n",
      "    \n",
      "        dilation: the spacing between kernel elements. Can be a single number or\n",
      "          a tuple `(dH, dW)`. Default: 1\n",
      "        groups: split input into groups, :math:`\\text{in\\_channels}` should be divisible by the\n",
      "          number of groups. Default: 1\n",
      "    \n",
      "    Examples::\n",
      "    \n",
      "        >>> # With square kernels and equal stride\n",
      "        >>> filters = torch.randn(8, 4, 3, 3)\n",
      "        >>> inputs = torch.randn(1, 4, 5, 5)\n",
      "        >>> F.conv2d(inputs, filters, padding=1)\n",
      "\n"
     ]
    }
   ],
   "source": [
    "help(f.conv2d)"
   ]
  },
  {
   "cell_type": "code",
   "execution_count": null,
   "id": "33312c88",
   "metadata": {},
   "outputs": [],
   "source": []
  }
 ],
 "metadata": {
  "kernelspec": {
   "display_name": "Python 3 (ipykernel)",
   "language": "python",
   "name": "python3"
  },
  "language_info": {
   "codemirror_mode": {
    "name": "ipython",
    "version": 3
   },
   "file_extension": ".py",
   "mimetype": "text/x-python",
   "name": "python",
   "nbconvert_exporter": "python",
   "pygments_lexer": "ipython3",
   "version": "3.10.8"
  }
 },
 "nbformat": 4,
 "nbformat_minor": 5
}
